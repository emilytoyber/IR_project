{
  "cells": [
    {
      "cell_type": "markdown",
      "metadata": {
        "id": "ByCSu-FhG5v7"
      },
      "source": [
        "# Final Project"
      ]
    },
    {
      "cell_type": "code",
      "execution_count": null,
      "metadata": {
        "id": "OzWMEkWakVIt",
        "outputId": "6e2ee495-9b91-4c46-c1d7-8acdd25389d3"
      },
      "outputs": [
        {
          "name": "stdout",
          "output_type": "stream",
          "text": [
            "NAME          PLATFORM  WORKER_COUNT  PREEMPTIBLE_WORKER_COUNT  STATUS   ZONE           SCHEDULED_DELETE\r\n",
            "cluster-8551  GCE       4                                       RUNNING  us-central1-a\r\n"
          ]
        }
      ],
      "source": [
        "# if the following command generates an error, you probably didn't enable \n",
        "# the cluster security option \"Allow API access to all Google Cloud services\"\n",
        "# under Manage Security → Project Access when setting up the cluster\n",
        "!gcloud dataproc clusters list --region us-central1"
      ]
    },
    {
      "cell_type": "code",
      "execution_count": null,
      "metadata": {
        "id": "XS9YXYNwkWFC",
        "outputId": "4f8fd070-9fe6-4c98-a888-828db6b7d6b5"
      },
      "outputs": [
        {
          "name": "stdout",
          "output_type": "stream",
          "text": [
            "\u001b[33mWARNING: Running pip as the 'root' user can result in broken permissions and conflicting behaviour with the system package manager. It is recommended to use a virtual environment instead: https://pip.pypa.io/warnings/venv\u001b[0m\n",
            "\u001b[33mWARNING: Running pip as the 'root' user can result in broken permissions and conflicting behaviour with the system package manager. It is recommended to use a virtual environment instead: https://pip.pypa.io/warnings/venv\u001b[0m\n"
          ]
        }
      ],
      "source": [
        "!pip install -q google-cloud-storage==1.43.0\n",
        "!pip install -q graphframes"
      ]
    },
    {
      "cell_type": "code",
      "execution_count": null,
      "metadata": {
        "deletable": false,
        "editable": false,
        "id": "byNgReCYsmA9",
        "nbgrader": {
          "cell_type": "code",
          "checksum": "9a5e34081c68da39370c09ff0ee046f0",
          "grade": false,
          "grade_id": "cell-4bab9532110cc7e3",
          "locked": true,
          "schema_version": 3,
          "solution": false,
          "task": false
        },
        "outputId": "77f35bc0-3e15-4d95-f4b1-9fc269a5d9e5"
      },
      "outputs": [
        {
          "name": "stderr",
          "output_type": "stream",
          "text": [
            "[nltk_data] Downloading package stopwords to /root/nltk_data...\n",
            "[nltk_data]   Unzipping corpora/stopwords.zip.\n"
          ]
        },
        {
          "data": {
            "text/plain": [
              "True"
            ]
          },
          "execution_count": 3,
          "metadata": {},
          "output_type": "execute_result"
        }
      ],
      "source": [
        "import sys\n",
        "from collections import Counter, OrderedDict\n",
        "import itertools\n",
        "from itertools import islice, count, groupby, chain\n",
        "import pandas as pd\n",
        "import numpy as np\n",
        "import os\n",
        "import re\n",
        "from operator import itemgetter\n",
        "import nltk\n",
        "from nltk.stem.porter import *\n",
        "from nltk.corpus import stopwords\n",
        "from time import time\n",
        "from timeit import timeit\n",
        "from pathlib import Path\n",
        "import pickle\n",
        "from google.cloud import storage\n",
        "from contextlib import closing\n",
        "from sklearn.feature_extraction.text import TfidfVectorizer\n",
        "import pandas as pd\n",
        "from sklearn.metrics.pairwise import cosine_similarity\n",
        "from collections import defaultdict,Counter\n",
        "from tqdm import tqdm\n",
        "import operator\n",
        "import json\n",
        "from io import StringIO\n",
        "import math\n",
        "import matplotlib.pyplot as plt\n",
        "import hashlib\n",
        "import pyspark\n",
        "import sys\n",
        "from collections import Counter, OrderedDict, defaultdict\n",
        "import itertools\n",
        "from itertools import islice, count, groupby\n",
        "\n",
        "def _hash(s):\n",
        "    return hashlib.blake2b(bytes(s, encoding='utf8'), digest_size=5).hexdigest()\n",
        "\n",
        "nltk.download('stopwords')"
      ]
    },
    {
      "cell_type": "code",
      "execution_count": null,
      "metadata": {
        "id": "roEneNS8kmZ5",
        "outputId": "fd6d569c-c81d-433c-b540-854d700b2405"
      },
      "outputs": [
        {
          "name": "stdout",
          "output_type": "stream",
          "text": [
            "-rw-r--r-- 1 root root 247882 Jan  4 19:23 /usr/lib/spark/jars/graphframes-0.8.2-spark3.1-s_2.12.jar\r\n"
          ]
        }
      ],
      "source": [
        "# if nothing prints here you forgot to include the initialization script when starting the cluster\n",
        "!ls -l /usr/lib/spark/jars/graph*"
      ]
    },
    {
      "cell_type": "code",
      "execution_count": null,
      "metadata": {
        "id": "GNo5KNnNknSw",
        "outputId": "48d9c62e-6eff-4e30-d747-2c39046255d1"
      },
      "outputs": [
        {
          "data": {
            "text/html": [
              "\n",
              "            <div>\n",
              "                <p><b>SparkSession - hive</b></p>\n",
              "                \n",
              "        <div>\n",
              "            <p><b>SparkContext</b></p>\n",
              "\n",
              "            <p><a href=\"http://cluster-8551-m.c.ir-project-337215.internal:45711\">Spark UI</a></p>\n",
              "\n",
              "            <dl>\n",
              "              <dt>Version</dt>\n",
              "                <dd><code>v3.1.2</code></dd>\n",
              "              <dt>Master</dt>\n",
              "                <dd><code>yarn</code></dd>\n",
              "              <dt>AppName</dt>\n",
              "                <dd><code>PySparkShell</code></dd>\n",
              "            </dl>\n",
              "        </div>\n",
              "        \n",
              "            </div>\n",
              "        "
            ],
            "text/plain": [
              "<pyspark.sql.session.SparkSession at 0x7f7ec3426430>"
            ]
          },
          "execution_count": 5,
          "metadata": {},
          "output_type": "execute_result"
        }
      ],
      "source": [
        "from pyspark.sql import *\n",
        "from pyspark.sql.functions import *\n",
        "from pyspark import SparkContext, SparkConf, SparkFiles\n",
        "from pyspark.sql import SQLContext\n",
        "from graphframes import *\n",
        "\n",
        "spark"
      ]
    },
    {
      "cell_type": "code",
      "execution_count": null,
      "metadata": {
        "deletable": false,
        "editable": false,
        "id": "kw33QgujFQez",
        "nbgrader": {
          "cell_type": "code",
          "checksum": "da733d0507fb7716a3f432b5d9d409a3",
          "grade": false,
          "grade_id": "cell-3f5100ba2d532176",
          "locked": true,
          "schema_version": 3,
          "solution": false,
          "task": false
        },
        "outputId": "7c4c1f21-8432-42a6-e417-af38d5752191"
      },
      "outputs": [
        {
          "name": "stdout",
          "output_type": "stream",
          "text": [
            "graphframes.sh\n"
          ]
        }
      ],
      "source": [
        "# Put your bucket name below and make sure you can access it without an error\n",
        "bucket_name = 'bucket-212270458' \n",
        "client = storage.Client()\n",
        "blobs = client.list_blobs(bucket_name)\n",
        "for b in blobs:\n",
        "    print(b.name)"
      ]
    },
    {
      "cell_type": "markdown",
      "metadata": {
        "id": "_GU4djg6yizh"
      },
      "source": [
        "# Inverted Index"
      ]
    },
    {
      "cell_type": "code",
      "execution_count": null,
      "metadata": {
        "id": "cI5pm3QGEGCd"
      },
      "outputs": [],
      "source": [
        "min_number_to_filter_title=0\n",
        "min_number_to_filter_body=50\n",
        "min_number_to_filter_anchor=0"
      ]
    },
    {
      "cell_type": "code",
      "execution_count": null,
      "metadata": {
        "colab": {
          "base_uri": "https://localhost:8080/"
        },
        "deletable": false,
        "editable": false,
        "id": "24AI2jXgOuVN",
        "nbgrader": {
          "cell_type": "code",
          "checksum": "cf07662ebf5f21f0f3bb8d43ee5aa50f",
          "grade": false,
          "grade_id": "cell-b34211e3350164ca",
          "locked": true,
          "schema_version": 3,
          "solution": false,
          "task": false
        },
        "outputId": "0626671e-ac1d-4723-f2e7-55c94bd1ecfb"
      },
      "outputs": [
        {
          "name": "stderr",
          "output_type": "stream",
          "text": [
            "                                                                                \r"
          ]
        }
      ],
      "source": [
        "full_path = \"gs://wikidata_preprocessed/*\"\n",
        "parquetFile = spark.read.parquet(full_path)"
      ]
    },
    {
      "cell_type": "code",
      "execution_count": null,
      "metadata": {
        "deletable": false,
        "editable": false,
        "id": "KMcsrc8RO9kn",
        "nbgrader": {
          "cell_type": "code",
          "checksum": "9f6dbcc85fde698083cc613e0cc1aaef",
          "grade": false,
          "grade_id": "cell-59e4fe49688570ce",
          "locked": true,
          "schema_version": 3,
          "solution": false,
          "task": false
        }
      },
      "outputs": [],
      "source": [
        "doc_body_pairs = parquetFile.select(\"text\", \"id\").rdd\n",
        "doc_title_pairs = parquetFile.select(\"title\", \"id\").rdd\n",
        "doc_anchor_preprocessed = parquetFile.select(\"anchor_text\").rdd"
      ]
    },
    {
      "cell_type": "code",
      "execution_count": null,
      "metadata": {
        "id": "sxvHK0iwpRHo",
        "outputId": "c37cbabf-5cf6-4bdb-91f3-bb6aa2df3af9"
      },
      "outputs": [
        {
          "name": "stdout",
          "output_type": "stream",
          "text": [
            "inverted_index_gcp.py\r\n"
          ]
        }
      ],
      "source": [
        "# if nothing prints here you forgot to upload the file inverted_index_gcp.py to the home dir\n",
        "%cd -q /home/dataproc\n",
        "!ls inverted_index_gcp.py"
      ]
    },
    {
      "cell_type": "code",
      "execution_count": null,
      "metadata": {
        "id": "2FmkYQIUpVI_"
      },
      "outputs": [],
      "source": [
        "# adding our python module to the cluster\n",
        "sc.addFile(\"/home/dataproc/inverted_index_gcp.py\")\n",
        "sys.path.insert(0,SparkFiles.getRootDirectory())"
      ]
    },
    {
      "cell_type": "code",
      "execution_count": null,
      "metadata": {
        "id": "i0Dxju4VpVsr"
      },
      "outputs": [],
      "source": [
        "from inverted_index_gcp import InvertedIndex"
      ]
    },
    {
      "cell_type": "code",
      "execution_count": null,
      "metadata": {
        "id": "X_RqR-M8HUaG"
      },
      "outputs": [],
      "source": [
        "def map_func(doc_anchor):\n",
        "  edge_set = []\n",
        "  for id, anchor in doc_anchor[0]:\n",
        "    if (id, anchor) not in edge_set:\n",
        "      edge_set.append((id, anchor))\n",
        "  return edge_set\n",
        "\n",
        "doc_anchor_pairs = doc_anchor_preprocessed.flatMap(map_func).distinct().groupByKey().mapValues(list).map(lambda x:(\" \".join(x[1]),x[0]))"
      ]
    },
    {
      "cell_type": "code",
      "execution_count": null,
      "metadata": {
        "deletable": false,
        "id": "9GmPedzexLyt",
        "nbgrader": {
          "cell_type": "code",
          "checksum": "27318e0e7bdcd4384f38fbce1f52996a",
          "grade": false,
          "grade_id": "cell-6b21d53c0afef4f6",
          "locked": false,
          "schema_version": 3,
          "solution": true,
          "task": false
        }
      },
      "outputs": [],
      "source": [
        "english_stopwords = frozenset(stopwords.words('english'))\n",
        "corpus_stopwords = [\"category\", \"references\", \"also\", \"external\", \"links\", \n",
        "                    \"may\", \"first\", \"see\", \"history\", \"people\", \"one\", \"two\", \n",
        "                    \"part\", \"thumb\", \"including\", \"second\", \"following\", \n",
        "                    \"many\", \"however\", \"would\", \"became\"]\n",
        "\n",
        "all_stopwords = english_stopwords.union(corpus_stopwords)\n",
        "RE_WORD = re.compile(r\"\"\"[\\#\\@\\w](['\\-]?\\w){2,24}\"\"\", re.UNICODE)\n",
        "\n",
        "NUM_BUCKETS = 124\n",
        "def token2bucket_id(token):\n",
        "  return int(_hash(token),16) % NUM_BUCKETS\n",
        "\n",
        "def word_count(text, id):\n",
        "  tokens = [token.group() for token in RE_WORD.finditer(text.lower())]\n",
        "  res = {}\n",
        "  words_count = dict(Counter(tokens))\n",
        "  for tok in tokens:\n",
        "    if tok not in all_stopwords:\n",
        "      res[tok] = (id, words_count[tok])\n",
        "  return list(res.items())\n",
        "\n",
        "def reduce_word_counts(unsorted_pl):\n",
        "  return sorted(unsorted_pl, key = lambda x: x[0])\n",
        "\n",
        "def calculate_df(postings):\n",
        "  return postings.map(lambda x: (x[0], len(x[1])))\n",
        "\n",
        "def partition_postings_and_write(postings):\n",
        "  buckets = postings.map(lambda x: (token2bucket_id(x[0]), x))\n",
        "  grouped = buckets.groupByKey(NUM_BUCKETS).mapValues(list)\n",
        "  res = grouped.map(lambda x: InvertedIndex.write_a_posting_list(x, bucket_name))\n",
        "  return res\n",
        "\n",
        "def calculate_dl(text, id):\n",
        "  doc_len = 0\n",
        "  tokens = [token.group() for token in RE_WORD.finditer(text.lower())]\n",
        "  for i in tokens:\n",
        "    if i not in all_stopwords:\n",
        "      doc_len += 1\n",
        "  return ((id, doc_len))\n",
        "\n",
        "def calculate_tt(postings):\n",
        "  def func(posting):\n",
        "    sum = 0\n",
        "    for tup in posting:\n",
        "      sum += tup[1]\n",
        "    return sum \n",
        "  return postings.mapValues(func)"
      ]
    },
    {
      "cell_type": "code",
      "execution_count": null,
      "metadata": {
        "colab": {
          "base_uri": "https://localhost:8080/"
        },
        "deletable": false,
        "editable": false,
        "id": "g3DUXXzxsy-B",
        "nbgrader": {
          "cell_type": "code",
          "checksum": "1b9779ec6b1e9dc06e41ea10fd7c259a",
          "grade": false,
          "grade_id": "cell-340917ce88e0d116",
          "locked": true,
          "schema_version": 3,
          "solution": false,
          "task": false
        },
        "outputId": "3fb96923-c9e2-426e-f646-e81ad3ea169a"
      },
      "outputs": [
        {
          "data": {
            "text/plain": [
              "[('political', (23040, 3)), ('philosophy', (23040, 3)), ('social', (23040, 1))]"
            ]
          },
          "execution_count": 77,
          "metadata": {},
          "output_type": "execute_result"
        }
      ],
      "source": [
        "word_counts_body = doc_body_pairs.flatMap(lambda x: word_count(x[0], x[1]))\n",
        "postings_body = word_counts_body.groupByKey().mapValues(reduce_word_counts)\n",
        "postings_body_filtered = postings_body.filter(lambda x: len(x[1])>min_number_to_filter_body)\n",
        "w2df_body = calculate_df(postings_body_filtered)\n",
        "w2df_body_dict = w2df_body.collectAsMap()\n",
        "term_total_body_dict = calculate_tt(postings_body_filtered).collectAsMap()\n",
        "dl_body_dict = doc_body_pairs.map(lambda x: calculate_dl(x[0], x[1])).collectAsMap()\n",
        "posting_locs_body_list = partition_postings_and_write(postings_body_filtered).collect()\n",
        "super_posting_body_locs = defaultdict(list)\n",
        "\n",
        "word_counts_title = doc_title_pairs.flatMap(lambda x: word_count(x[0], x[1]))\n",
        "postings_title = word_counts_title.groupByKey().mapValues(reduce_word_counts)\n",
        "postings_title_filtered = postings_title.filter(lambda x: len(x[1])>min_number_to_filter_title)\n",
        "w2df_title = calculate_df(postings_title_filtered)\n",
        "w2df_title_dict = w2df_title.collectAsMap()\n",
        "term_total_title_dict = calculate_tt(postings_title_filtered).collectAsMap()\n",
        "dl_title_dict = doc_title_pairs.map(lambda x: calculate_dl(x[0], x[1])).collectAsMap()\n",
        "posting_locs_title_list = partition_postings_and_write(postings_title_filtered).collect()\n",
        "super_posting_title_locs = defaultdict(list)\n",
        "\n",
        "word_counts_anchor = doc_anchor_pairs.flatMap(lambda x: word_count(x[0], x[1]))\n",
        "postings_anchor = word_counts_anchor.groupByKey().mapValues(reduce_word_counts)\n",
        "postings_anchor_filtered = postings_anchor.filter(lambda x: len(x[1])>min_number_to_filter_anchor)\n",
        "w2df_anchor = calculate_df(postings_anchor_filtered)\n",
        "w2df_anchor_dict = w2df_anchor.collectAsMap()\n",
        "term_total_anchor_dict = calculate_tt(postings_anchor_filtered).collectAsMap()\n",
        "dl_anchor_dict = doc_anchor_pairs.map(lambda x: calculate_dl(x[0], x[1])).collectAsMap()\n",
        "posting_locs_anchor_list = partition_postings_and_write(postings_anchor_filtered).collect()\n",
        "super_posting_anchor_locs = defaultdict(list)"
      ]
    },
    {
      "cell_type": "code",
      "execution_count": null,
      "metadata": {
        "deletable": false,
        "editable": false,
        "id": "vxCMgAlRDIac",
        "nbgrader": {
          "cell_type": "code",
          "checksum": "a22f7669520fe9435380b4226b14665e",
          "grade": true,
          "grade_id": "cell-708dc83ae80344eb",
          "locked": true,
          "points": 10,
          "schema_version": 3,
          "solution": false,
          "task": false
        }
      },
      "outputs": [],
      "source": [
        "for blob in client.list_blobs(bucket_name, prefix='postings_gcp'):\n",
        "  if not blob.name.endswith(\"pickle\"):\n",
        "    continue\n",
        "  with blob.open(\"rb\") as f:\n",
        "    posting_locs = pickle.load(f)\n",
        "    for k, v in posting_locs.items():\n",
        "      super_posting_body_locs[k].extend(v)\n",
        "\n",
        "for blob in client.list_blobs(bucket_name, prefix='postings_gcp'):\n",
        "  if not blob.name.endswith(\"pickle\"):\n",
        "    continue\n",
        "  with blob.open(\"rb\") as f:\n",
        "    posting_locs = pickle.load(f)\n",
        "    for k, v in posting_locs.items():\n",
        "      super_posting_title_locs[k].extend(v)\n",
        "\n",
        "for blob in client.list_blobs(bucket_name, prefix='postings_gcp'):\n",
        "  if not blob.name.endswith(\"pickle\"):\n",
        "    continue\n",
        "  with blob.open(\"rb\") as f:\n",
        "    posting_locs = pickle.load(f)\n",
        "    for k, v in posting_locs.items():\n",
        "      super_posting_anchor_locs[k].extend(v)"
      ]
    },
    {
      "cell_type": "code",
      "execution_count": null,
      "metadata": {
        "id": "VKrew8cUAyTz"
      },
      "outputs": [],
      "source": [
        "# Create inverted index instances\n",
        "index_body = InvertedIndex()\n",
        "index_body.posting_locs = super_posting_body_locs\n",
        "index_body.df = w2df_body_dict\n",
        "index_body.DL = dl_body_dict\n",
        "index_body.term_total = term_total_body_dict\n",
        "\n",
        "index_titles = InvertedIndex()\n",
        "index_titles.posting_locs = super_posting_title_locs\n",
        "index_titles.df = w2df_title_dict\n",
        "index_titles.DL = dl_title_dict\n",
        "index_titles.term_total = term_total_title_dict\n",
        "\n",
        "index_anchor = InvertedIndex()\n",
        "index_anchor.posting_locs = super_posting_anchor_locs\n",
        "index_anchor.df = w2df_anchor_dict\n",
        "index_anchor.DL = dl_anchor_dict\n",
        "index_anchor.term_total = term_total_anchor_dict"
      ]
    },
    {
      "cell_type": "code",
      "execution_count": null,
      "metadata": {
        "id": "K2u56wNOvGf4",
        "outputId": "60b02e20-34b0-41a9-85ab-753b6f44eb2f",
        "colab": {
          "base_uri": "https://localhost:8080/",
          "height": 235
        }
      },
      "outputs": [
        {
          "output_type": "error",
          "ename": "NameError",
          "evalue": "ignored",
          "traceback": [
            "\u001b[0;31m---------------------------------------------------------------------------\u001b[0m",
            "\u001b[0;31mNameError\u001b[0m                                 Traceback (most recent call last)",
            "\u001b[0;32m<ipython-input-1-a83e61fd76ec>\u001b[0m in \u001b[0;36m<module>\u001b[0;34m()\u001b[0m\n\u001b[0;32m----> 1\u001b[0;31m \u001b[0mindex_body\u001b[0m\u001b[0;34m.\u001b[0m\u001b[0mwrite_index\u001b[0m\u001b[0;34m(\u001b[0m\u001b[0;34m'.'\u001b[0m\u001b[0;34m,\u001b[0m\u001b[0;34m'body_index'\u001b[0m\u001b[0;34m)\u001b[0m\u001b[0;34m\u001b[0m\u001b[0;34m\u001b[0m\u001b[0m\n\u001b[0m\u001b[1;32m      2\u001b[0m \u001b[0mindex_titles\u001b[0m\u001b[0;34m.\u001b[0m\u001b[0mwrite_index\u001b[0m\u001b[0;34m(\u001b[0m\u001b[0;34m'.'\u001b[0m\u001b[0;34m,\u001b[0m\u001b[0;34m'title_index'\u001b[0m\u001b[0;34m)\u001b[0m\u001b[0;34m\u001b[0m\u001b[0;34m\u001b[0m\u001b[0m\n\u001b[1;32m      3\u001b[0m \u001b[0mindex_anchor\u001b[0m\u001b[0;34m.\u001b[0m\u001b[0mwrite_index\u001b[0m\u001b[0;34m(\u001b[0m\u001b[0;34m'.'\u001b[0m\u001b[0;34m,\u001b[0m \u001b[0;34m'anchor_index'\u001b[0m\u001b[0;34m)\u001b[0m\u001b[0;34m\u001b[0m\u001b[0;34m\u001b[0m\u001b[0m\n\u001b[1;32m      4\u001b[0m \u001b[0;34m\u001b[0m\u001b[0m\n\u001b[1;32m      5\u001b[0m \u001b[0;31m# upload to gs\u001b[0m\u001b[0;34m\u001b[0m\u001b[0;34m\u001b[0m\u001b[0;34m\u001b[0m\u001b[0m\n",
            "\u001b[0;31mNameError\u001b[0m: name 'index_body' is not defined"
          ]
        }
      ],
      "source": [
        "index_body.write_index('.','body_index')\n",
        "index_titles.write_index('.','title_index')\n",
        "index_anchor.write_index('.', 'anchor_index')\n",
        "\n",
        "# upload to gs\n",
        "index_src = \"body_index.pkl\"\n",
        "index_dst = f'gs://{bucket_name}/postings_gcp/{index_src}'\n",
        "!gsutil cp $index_src $index_dst\n",
        "\n",
        "index_src = \"title_index.pkl\"\n",
        "index_dst = f'gs://{bucket_name}/postings_gcp/{index_src}'\n",
        "!gsutil cp $index_src $index_dst\n",
        "\n",
        "index_src = \"anchor_index.pkl\"\n",
        "index_dst = f'gs://{bucket_name}/postings_gcp/{index_src}'\n",
        "!gsutil cp $index_src $index_dst"
      ]
    },
    {
      "cell_type": "code",
      "execution_count": null,
      "metadata": {
        "id": "J96AT1hQvk1m",
        "outputId": "f1cc4a5d-3db5-4efd-ea81-eea7d37398c0"
      },
      "outputs": [
        {
          "name": "stdout",
          "output_type": "stream",
          "text": [
            "     181 B  2022-01-04T20:40:48Z  gs://bucket-212270458/postings_gcp/body_index.pkl\r\n",
            "TOTAL: 1 objects, 181 bytes (181 B)\r\n"
          ]
        }
      ],
      "source": [
        "!gsutil ls -lh $index_dst"
      ]
    }
  ],
  "metadata": {
    "colab": {
      "collapsed_sections": [],
      "name": "create_indexes.ipynb",
      "provenance": []
    },
    "kernelspec": {
      "display_name": "PySpark",
      "language": "python",
      "name": "pyspark"
    },
    "language_info": {
      "codemirror_mode": {
        "name": "ipython",
        "version": 3
      },
      "file_extension": ".py",
      "mimetype": "text/x-python",
      "name": "python",
      "nbconvert_exporter": "python",
      "pygments_lexer": "ipython3",
      "version": "3.8.12"
    }
  },
  "nbformat": 4,
  "nbformat_minor": 0
}